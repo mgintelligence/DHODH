{
 "cells": [
  {
   "cell_type": "code",
   "execution_count": 1,
   "metadata": {},
   "outputs": [],
   "source": [
    "import numpy as np\n",
    "import pandas as pd\n",
    "import openpyxl\n",
    "import matplotlib as mp\n",
    "import matplotlib.pyplot as plt\n",
    "import sklearn as sl\n",
    "from sklearn import metrics\n",
    "from sklearn.model_selection import GridSearchCV\n",
    "from xgboost import XGBClassifier\n",
    "from sklearn.metrics import classification_report, confusion_matrix\n",
    "from sklearn.metrics import confusion_matrix\n",
    "from sklearn.metrics import roc_auc_score\n",
    "from sklearn.model_selection import cross_val_score\n",
    "from sklearn.model_selection import KFold\n",
    "from numpy import mean\n",
    "from numpy import std\n",
    "from sklearn.metrics import accuracy_score\n",
    "from sklearn.metrics import precision_score\n",
    "from sklearn.metrics import recall_score\n",
    "from sklearn.metrics import f1_score\n",
    "from sklearn.model_selection import StratifiedKFold \n",
    "from sklearn.model_selection import RepeatedKFold\n",
    "import seaborn as sns\n",
    "from sklearn.metrics import classification_report\n",
    "from scipy.stats import loguniform\n",
    "from sklearn.ensemble import GradientBoostingClassifier\n",
    "from imblearn.over_sampling import SMOTE\n",
    "np.random.seed(42)"
   ]
  },
  {
   "cell_type": "code",
   "execution_count": 2,
   "metadata": {},
   "outputs": [
    {
     "data": {
      "text/plain": [
       "(1401, 1026)"
      ]
     },
     "execution_count": 2,
     "metadata": {},
     "output_type": "execute_result"
    }
   ],
   "source": [
    "AA=\"C:/Users/ganes/OneDrive/Desktop/AI/Drug/DDH_Final.xlsx\"\n",
    "df_S=pd.read_excel(AA)\n",
    "df_S.head(5)\n",
    "df_S=pd.read_excel(AA)\n",
    "df_S.head(5)\n",
    "df_S.shape\n"
   ]
  },
  {
   "cell_type": "code",
   "execution_count": 3,
   "metadata": {},
   "outputs": [],
   "source": [
    "X = pd.read_excel(AA, usecols='A:AMJ') \n",
    "Y=pd.read_excel(AA, usecols='AML')"
   ]
  },
  {
   "cell_type": "code",
   "execution_count": 4,
   "metadata": {},
   "outputs": [
    {
     "data": {
      "text/html": [
       "<div>\n",
       "<style scoped>\n",
       "    .dataframe tbody tr th:only-of-type {\n",
       "        vertical-align: middle;\n",
       "    }\n",
       "\n",
       "    .dataframe tbody tr th {\n",
       "        vertical-align: top;\n",
       "    }\n",
       "\n",
       "    .dataframe thead th {\n",
       "        text-align: right;\n",
       "    }\n",
       "</style>\n",
       "<table border=\"1\" class=\"dataframe\">\n",
       "  <thead>\n",
       "    <tr style=\"text-align: right;\">\n",
       "      <th></th>\n",
       "      <th>CL</th>\n",
       "    </tr>\n",
       "  </thead>\n",
       "  <tbody>\n",
       "    <tr>\n",
       "      <th>0</th>\n",
       "      <td>0</td>\n",
       "    </tr>\n",
       "    <tr>\n",
       "      <th>1</th>\n",
       "      <td>0</td>\n",
       "    </tr>\n",
       "    <tr>\n",
       "      <th>2</th>\n",
       "      <td>0</td>\n",
       "    </tr>\n",
       "    <tr>\n",
       "      <th>3</th>\n",
       "      <td>0</td>\n",
       "    </tr>\n",
       "    <tr>\n",
       "      <th>4</th>\n",
       "      <td>1</td>\n",
       "    </tr>\n",
       "  </tbody>\n",
       "</table>\n",
       "</div>"
      ],
      "text/plain": [
       "   CL\n",
       "0   0\n",
       "1   0\n",
       "2   0\n",
       "3   0\n",
       "4   1"
      ]
     },
     "execution_count": 4,
     "metadata": {},
     "output_type": "execute_result"
    }
   ],
   "source": [
    "Y.head(5)"
   ]
  },
  {
   "cell_type": "code",
   "execution_count": 5,
   "metadata": {},
   "outputs": [],
   "source": [
    "X_OS=X\n",
    "Y_OS=Y.values.ravel()"
   ]
  },
  {
   "cell_type": "code",
   "execution_count": 6,
   "metadata": {},
   "outputs": [
    {
     "name": "stdout",
     "output_type": "stream",
     "text": [
      "Train Accuracy: 0.9990\n",
      "Test Accuracy: 0.9272\n",
      "Train Precision: 0.9990\n",
      "Test Precision: 0.9296\n",
      "Train Recall: 0.9990\n",
      "Test Recall: 0.9272\n",
      "Train F1-score: 0.9990\n",
      "Test F1-score: 0.9271\n",
      "Matthews correlation coefficient (Train): 0.9981\n",
      "Matthews correlation coefficient (Test): 0.8568\n",
      "\n",
      "Classification Report (Train):\n",
      "              precision    recall  f1-score   support\n",
      "\n",
      "           0       1.00      1.00      1.00       891\n",
      "           1       1.00      1.00      1.00       890\n",
      "\n",
      "    accuracy                           1.00      1781\n",
      "   macro avg       1.00      1.00      1.00      1781\n",
      "weighted avg       1.00      1.00      1.00      1781\n",
      "\n",
      "\n",
      "Classification Report (Test):\n",
      "              precision    recall  f1-score   support\n",
      "\n",
      "           0       0.92      0.92      0.92        98\n",
      "           1       0.92      0.92      0.92        99\n",
      "\n",
      "    accuracy                           0.92       197\n",
      "   macro avg       0.92      0.92      0.92       197\n",
      "weighted avg       0.92      0.92      0.92       197\n",
      "\n"
     ]
    },
    {
     "data": {
      "image/png": "[encoded data removed]",
      "text/plain": [
       "<Figure size 1000x500 with 4 Axes>"
      ]
     },
     "metadata": {},
     "output_type": "display_data"
    }
   ],
   "source": [
    "from sklearn.ensemble import RandomForestClassifier\n",
    "from sklearn.model_selection import StratifiedKFold, GridSearchCV\n",
    "from sklearn import metrics\n",
    "from imblearn.over_sampling import SMOTE\n",
    "from sklearn.metrics import confusion_matrix\n",
    "import seaborn as sns\n",
    "import matplotlib.pyplot as plt\n",
    "import numpy as np\n",
    "\n",
    "# 1. Apply SMOTE to balance the data\n",
    "sm = SMOTE(random_state=42)\n",
    "X_res, Y_res = sm.fit_resample(X_OS, Y_OS)\n",
    "\n",
    "# 2. Set up Stratified K-Folds cross-validator\n",
    "cv = StratifiedKFold(n_splits=10, random_state=42, shuffle=True)\n",
    "\n",
    "# 3. Define hyperparameters for GridSearchCV\n",
    "param_grid = {\n",
    "    'n_estimators': [100, 200, 500],\n",
    "    'max_depth': [10, 20, 30, None],\n",
    "    'min_samples_split': [2, 5, 10],\n",
    "    'min_samples_leaf': [1, 2, 4],\n",
    "    'bootstrap': [True, False]\n",
    "}\n",
    "\n",
    "# Initialize GridSearchCV with RandomForestClassifier\n",
    "grid_search = GridSearchCV(RandomForestClassifier(random_state=42),\n",
    "                           param_grid, \n",
    "                           cv=5, \n",
    "                           scoring='accuracy', \n",
    "                           n_jobs=-1)\n",
    "\n",
    "# Fit GridSearchCV once, then use the best model for cross-validation\n",
    "grid_search.fit(X_res, Y_res)\n",
    "best_model = grid_search.best_estimator_\n",
    "\n",
    "# Initialize lists to store scores\n",
    "metrics_dict = {\n",
    "    'train_acc': [], 'test_acc': [],\n",
    "    'train_prec': [], 'test_prec': [],\n",
    "    'train_recall': [], 'test_recall': [],\n",
    "    'train_f1': [], 'test_f1': [],\n",
    "    'train_mcc': [], 'test_mcc': []\n",
    "}\n",
    "final_train_conf_matrix, final_test_conf_matrix = None, None\n",
    "\n",
    "# 4. Perform Stratified Cross-Validation\n",
    "for fold_idx, (train_index, test_index) in enumerate(cv.split(X_res, Y_res)):\n",
    "    # Split the data into training and testing sets\n",
    "    X_train, X_test = X_res.iloc[train_index], X_res.iloc[test_index]\n",
    "    Y_train, Y_test = Y_res[train_index], Y_res[test_index]\n",
    "    \n",
    "    # Train the best model found by GridSearchCV\n",
    "    best_model.fit(X_train, Y_train)\n",
    "    \n",
    "    # Predictions for training and test data\n",
    "    pred_train = best_model.predict(X_train)\n",
    "    pred_test = best_model.predict(X_test)\n",
    "    \n",
    "    # 5. Calculate performance metrics\n",
    "    metrics_dict['train_acc'].append(metrics.accuracy_score(Y_train, pred_train))\n",
    "    metrics_dict['test_acc'].append(metrics.accuracy_score(Y_test, pred_test))\n",
    "    \n",
    "    metrics_dict['train_prec'].append(metrics.precision_score(Y_train, pred_train, average=\"macro\"))\n",
    "    metrics_dict['test_prec'].append(metrics.precision_score(Y_test, pred_test, average=\"macro\"))\n",
    "\n",
    "    metrics_dict['train_recall'].append(metrics.recall_score(Y_train, pred_train, average=\"macro\"))\n",
    "    metrics_dict['test_recall'].append(metrics.recall_score(Y_test, pred_test, average=\"macro\"))\n",
    "\n",
    "    metrics_dict['train_f1'].append(metrics.f1_score(Y_train, pred_train, average=\"macro\"))\n",
    "    metrics_dict['test_f1'].append(metrics.f1_score(Y_test, pred_test, average=\"macro\"))\n",
    "\n",
    "    metrics_dict['train_mcc'].append(metrics.matthews_corrcoef(Y_train, pred_train))\n",
    "    metrics_dict['test_mcc'].append(metrics.matthews_corrcoef(Y_test, pred_test))\n",
    "    \n",
    "    # Store confusion matrices from the last fold\n",
    "    if fold_idx == (cv.n_splits - 1):\n",
    "        final_train_conf_matrix = confusion_matrix(Y_train, pred_train)\n",
    "        final_test_conf_matrix = confusion_matrix(Y_test, pred_test)\n",
    "\n",
    "# 6. Print average performance metrics across all folds\n",
    "print(f\"Train Accuracy: {np.mean(metrics_dict['train_acc']):.4f}\")\n",
    "print(f\"Test Accuracy: {np.mean(metrics_dict['test_acc']):.4f}\")\n",
    "print(f\"Train Precision: {np.mean(metrics_dict['train_prec']):.4f}\")\n",
    "print(f\"Test Precision: {np.mean(metrics_dict['test_prec']):.4f}\")\n",
    "print(f\"Train Recall: {np.mean(metrics_dict['train_recall']):.4f}\")\n",
    "print(f\"Test Recall: {np.mean(metrics_dict['test_recall']):.4f}\")\n",
    "print(f\"Train F1-score: {np.mean(metrics_dict['train_f1']):.4f}\")\n",
    "print(f\"Test F1-score: {np.mean(metrics_dict['test_f1']):.4f}\")\n",
    "print(f\"Matthews correlation coefficient (Train): {np.mean(metrics_dict['train_mcc']):.4f}\")\n",
    "print(f\"Matthews correlation coefficient (Test): {np.mean(metrics_dict['test_mcc']):.4f}\")\n",
    "\n",
    "# 7. Classification reports for the final fold\n",
    "print(\"\\nClassification Report (Train):\")\n",
    "print(metrics.classification_report(Y_train, pred_train))\n",
    "print(\"\\nClassification Report (Test):\")\n",
    "print(metrics.classification_report(Y_test, pred_test))\n",
    "\n",
    "# 8. Plot Confusion Matrix for the final fold\n",
    "plt.figure(figsize=(10, 5))\n",
    "\n",
    "# Confusion matrix for Train data\n",
    "plt.subplot(1, 2, 1)\n",
    "sns.heatmap(final_train_conf_matrix, annot=True, cmap='copper', fmt=\"g\")\n",
    "plt.title('Train Confusion Matrix')\n",
    "\n",
    "# Confusion matrix for Test data\n",
    "plt.subplot(1, 2, 2)\n",
    "sns.heatmap(final_test_conf_matrix, annot=True, cmap='copper', fmt=\"g\")\n",
    "plt.title('Test Confusion Matrix')\n",
    "\n",
    "plt.show()\n"
   ]
  },
  {
   "cell_type": "code",
   "execution_count": 9,
   "metadata": {},
   "outputs": [
    {
     "name": "stdout",
     "output_type": "stream",
     "text": [
      "[0 1 0 0 0 0 1 0 0 0 0 0 0 0 0 0 0 1 0 0 0 0 1 0 0 0 0 0 0 0 0 0 0 0 0 0 0\n",
      " 0 1 0 0 0 0 0 0 0 0 0 0 0 0 0 0 0 0 0 0 0 0 0]\n"
     ]
    }
   ],
   "source": [
    "AA_New_Drug=\"C:/Users/ganes/OneDrive/Desktop/AI/Drug/VAN_String.xlsx\"\n",
    "X_New_Drug = pd.read_excel(AA_New_Drug, usecols='A:AMJ') \n",
    "RF_New_Drug = best_model.predict(X_New_Drug)\n",
    "print(RF_New_Drug)\n",
    "df_RFt = pd.DataFrame (RF_New_Drug)\n",
    "df_RFt.columns=[\"Predicted\"] \n",
    "filepath = 'RF_New_Drug.xlsx'\n",
    "df_RFt.to_excel(filepath, index=False)"
   ]
  },
  {
   "cell_type": "code",
   "execution_count": null,
   "metadata": {},
   "outputs": [],
   "source": []
  }
 ],
 "metadata": {
  "kernelspec": {
   "display_name": "Python 3 (ipykernel)",
   "language": "python",
   "name": "python3"
  },
  "language_info": {
   "codemirror_mode": {
    "name": "ipython",
    "version": 3
   },
   "file_extension": ".py",
   "mimetype": "text/x-python",
   "name": "python",
   "nbconvert_exporter": "python",
   "pygments_lexer": "ipython3",
   "version": "3.12.4"
  }
 },
 "nbformat": 4,
 "nbformat_minor": 4
}
